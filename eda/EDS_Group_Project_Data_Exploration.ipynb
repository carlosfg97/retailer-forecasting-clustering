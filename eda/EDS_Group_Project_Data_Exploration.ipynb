{
 "cells": [
  {
   "cell_type": "code",
   "execution_count": 1,
   "id": "f2a1f19b",
   "metadata": {},
   "outputs": [],
   "source": [
    "import pandas as pd"
   ]
  },
  {
   "cell_type": "code",
   "execution_count": 6,
   "id": "38b4a804",
   "metadata": {},
   "outputs": [],
   "source": [
    "holidays = pd.read_csv(\"C:\\\\Users\\\\adity\\\\Documents\\\\Winter Semester'22 Courses MMA McGill\\\\Enterprise Data Science\\\\Group Project\\\\Data Files\\\\holidays_events.csv\", parse_dates= [0])"
   ]
  },
  {
   "cell_type": "code",
   "execution_count": 7,
   "id": "e2a4270c",
   "metadata": {},
   "outputs": [
    {
     "data": {
      "text/html": [
       "<div>\n",
       "<style scoped>\n",
       "    .dataframe tbody tr th:only-of-type {\n",
       "        vertical-align: middle;\n",
       "    }\n",
       "\n",
       "    .dataframe tbody tr th {\n",
       "        vertical-align: top;\n",
       "    }\n",
       "\n",
       "    .dataframe thead th {\n",
       "        text-align: right;\n",
       "    }\n",
       "</style>\n",
       "<table border=\"1\" class=\"dataframe\">\n",
       "  <thead>\n",
       "    <tr style=\"text-align: right;\">\n",
       "      <th></th>\n",
       "      <th>date</th>\n",
       "      <th>type</th>\n",
       "      <th>locale</th>\n",
       "      <th>locale_name</th>\n",
       "      <th>description</th>\n",
       "      <th>transferred</th>\n",
       "    </tr>\n",
       "  </thead>\n",
       "  <tbody>\n",
       "    <tr>\n",
       "      <th>0</th>\n",
       "      <td>2012-03-02</td>\n",
       "      <td>Holiday</td>\n",
       "      <td>Local</td>\n",
       "      <td>Manta</td>\n",
       "      <td>Fundacion de Manta</td>\n",
       "      <td>False</td>\n",
       "    </tr>\n",
       "    <tr>\n",
       "      <th>1</th>\n",
       "      <td>2012-04-01</td>\n",
       "      <td>Holiday</td>\n",
       "      <td>Regional</td>\n",
       "      <td>Cotopaxi</td>\n",
       "      <td>Provincializacion de Cotopaxi</td>\n",
       "      <td>False</td>\n",
       "    </tr>\n",
       "    <tr>\n",
       "      <th>2</th>\n",
       "      <td>2012-04-12</td>\n",
       "      <td>Holiday</td>\n",
       "      <td>Local</td>\n",
       "      <td>Cuenca</td>\n",
       "      <td>Fundacion de Cuenca</td>\n",
       "      <td>False</td>\n",
       "    </tr>\n",
       "    <tr>\n",
       "      <th>3</th>\n",
       "      <td>2012-04-14</td>\n",
       "      <td>Holiday</td>\n",
       "      <td>Local</td>\n",
       "      <td>Libertad</td>\n",
       "      <td>Cantonizacion de Libertad</td>\n",
       "      <td>False</td>\n",
       "    </tr>\n",
       "    <tr>\n",
       "      <th>4</th>\n",
       "      <td>2012-04-21</td>\n",
       "      <td>Holiday</td>\n",
       "      <td>Local</td>\n",
       "      <td>Riobamba</td>\n",
       "      <td>Cantonizacion de Riobamba</td>\n",
       "      <td>False</td>\n",
       "    </tr>\n",
       "  </tbody>\n",
       "</table>\n",
       "</div>"
      ],
      "text/plain": [
       "        date     type    locale locale_name                    description  \\\n",
       "0 2012-03-02  Holiday     Local       Manta             Fundacion de Manta   \n",
       "1 2012-04-01  Holiday  Regional    Cotopaxi  Provincializacion de Cotopaxi   \n",
       "2 2012-04-12  Holiday     Local      Cuenca            Fundacion de Cuenca   \n",
       "3 2012-04-14  Holiday     Local    Libertad      Cantonizacion de Libertad   \n",
       "4 2012-04-21  Holiday     Local    Riobamba      Cantonizacion de Riobamba   \n",
       "\n",
       "   transferred  \n",
       "0        False  \n",
       "1        False  \n",
       "2        False  \n",
       "3        False  \n",
       "4        False  "
      ]
     },
     "execution_count": 7,
     "metadata": {},
     "output_type": "execute_result"
    }
   ],
   "source": [
    "holidays.head()"
   ]
  },
  {
   "cell_type": "code",
   "execution_count": 8,
   "id": "b496d8c6",
   "metadata": {},
   "outputs": [
    {
     "name": "stdout",
     "output_type": "stream",
     "text": [
      "<class 'pandas.core.frame.DataFrame'>\n",
      "RangeIndex: 350 entries, 0 to 349\n",
      "Data columns (total 6 columns):\n",
      " #   Column       Non-Null Count  Dtype         \n",
      "---  ------       --------------  -----         \n",
      " 0   date         350 non-null    datetime64[ns]\n",
      " 1   type         350 non-null    object        \n",
      " 2   locale       350 non-null    object        \n",
      " 3   locale_name  350 non-null    object        \n",
      " 4   description  350 non-null    object        \n",
      " 5   transferred  350 non-null    bool          \n",
      "dtypes: bool(1), datetime64[ns](1), object(4)\n",
      "memory usage: 14.1+ KB\n"
     ]
    }
   ],
   "source": [
    "holidays.info()"
   ]
  },
  {
   "cell_type": "code",
   "execution_count": 11,
   "id": "e67b5eb0",
   "metadata": {},
   "outputs": [
    {
     "name": "stdout",
     "output_type": "stream",
     "text": [
      "2012-03-02 00:00:00\n",
      "2017-12-26 00:00:00\n"
     ]
    }
   ],
   "source": [
    "print(holidays['date'].min())\n",
    "print(holidays['date'].max())"
   ]
  },
  {
   "cell_type": "code",
   "execution_count": 14,
   "id": "52fbee33",
   "metadata": {},
   "outputs": [
    {
     "data": {
      "text/plain": [
       "<AxesSubplot:>"
      ]
     },
     "execution_count": 14,
     "metadata": {},
     "output_type": "execute_result"
    },
    {
     "data": {
      "image/png": "[encoded data removed]",
      "text/plain": [
       "<Figure size 432x288 with 1 Axes>"
      ]
     },
     "metadata": {
      "needs_background": "light"
     },
     "output_type": "display_data"
    }
   ],
   "source": [
    "holidays['locale'].value_counts().plot(kind = 'barh')"
   ]
  },
  {
   "cell_type": "code",
   "execution_count": 15,
   "id": "5a2c2b4d",
   "metadata": {},
   "outputs": [
    {
     "data": {
      "text/plain": [
       "<AxesSubplot:>"
      ]
     },
     "execution_count": 15,
     "metadata": {},
     "output_type": "execute_result"
    },
    {
     "data": {
      "image/png": "[encoded data removed]",
      "text/plain": [
       "<Figure size 432x288 with 1 Axes>"
      ]
     },
     "metadata": {
      "needs_background": "light"
     },
     "output_type": "display_data"
    }
   ],
   "source": [
    "holidays['locale_name'].value_counts().plot(kind = 'barh')"
   ]
  },
  {
   "cell_type": "code",
   "execution_count": 35,
   "id": "b2b79283",
   "metadata": {},
   "outputs": [
    {
     "data": {
      "text/plain": [
       "National    174\n",
       "Name: locale, dtype: int64"
      ]
     },
     "execution_count": 35,
     "metadata": {},
     "output_type": "execute_result"
    }
   ],
   "source": [
    "# Lets check for Ecuador, what is the distribution of holidays by locale\n",
    "holidays_ecuador = holidays[holidays['locale_name'] == 'Ecuador']\n",
    "holidays_ecuador['locale'].value_counts()"
   ]
  },
  {
   "cell_type": "code",
   "execution_count": 37,
   "id": "8f00f5bd",
   "metadata": {},
   "outputs": [],
   "source": [
    "# Importing the items dataframe\n",
    "items = pd.read_csv(\"C:\\\\Users\\\\adity\\\\Documents\\\\Winter Semester'22 Courses MMA McGill\\\\Enterprise Data Science\\\\Group Project\\\\Data Files\\\\items.csv\")"
   ]
  },
  {
   "cell_type": "code",
   "execution_count": 19,
   "id": "480a535c",
   "metadata": {},
   "outputs": [
    {
     "data": {
      "text/html": [
       "<div>\n",
       "<style scoped>\n",
       "    .dataframe tbody tr th:only-of-type {\n",
       "        vertical-align: middle;\n",
       "    }\n",
       "\n",
       "    .dataframe tbody tr th {\n",
       "        vertical-align: top;\n",
       "    }\n",
       "\n",
       "    .dataframe thead th {\n",
       "        text-align: right;\n",
       "    }\n",
       "</style>\n",
       "<table border=\"1\" class=\"dataframe\">\n",
       "  <thead>\n",
       "    <tr style=\"text-align: right;\">\n",
       "      <th></th>\n",
       "      <th>item_nbr</th>\n",
       "      <th>family</th>\n",
       "      <th>class</th>\n",
       "      <th>perishable</th>\n",
       "    </tr>\n",
       "  </thead>\n",
       "  <tbody>\n",
       "    <tr>\n",
       "      <th>0</th>\n",
       "      <td>96995</td>\n",
       "      <td>GROCERY I</td>\n",
       "      <td>1093</td>\n",
       "      <td>0</td>\n",
       "    </tr>\n",
       "    <tr>\n",
       "      <th>1</th>\n",
       "      <td>99197</td>\n",
       "      <td>GROCERY I</td>\n",
       "      <td>1067</td>\n",
       "      <td>0</td>\n",
       "    </tr>\n",
       "    <tr>\n",
       "      <th>2</th>\n",
       "      <td>103501</td>\n",
       "      <td>CLEANING</td>\n",
       "      <td>3008</td>\n",
       "      <td>0</td>\n",
       "    </tr>\n",
       "    <tr>\n",
       "      <th>3</th>\n",
       "      <td>103520</td>\n",
       "      <td>GROCERY I</td>\n",
       "      <td>1028</td>\n",
       "      <td>0</td>\n",
       "    </tr>\n",
       "    <tr>\n",
       "      <th>4</th>\n",
       "      <td>103665</td>\n",
       "      <td>BREAD/BAKERY</td>\n",
       "      <td>2712</td>\n",
       "      <td>1</td>\n",
       "    </tr>\n",
       "  </tbody>\n",
       "</table>\n",
       "</div>"
      ],
      "text/plain": [
       "   item_nbr        family  class  perishable\n",
       "0     96995     GROCERY I   1093           0\n",
       "1     99197     GROCERY I   1067           0\n",
       "2    103501      CLEANING   3008           0\n",
       "3    103520     GROCERY I   1028           0\n",
       "4    103665  BREAD/BAKERY   2712           1"
      ]
     },
     "execution_count": 19,
     "metadata": {},
     "output_type": "execute_result"
    }
   ],
   "source": [
    "items.head()"
   ]
  },
  {
   "cell_type": "code",
   "execution_count": 20,
   "id": "e4e4f296",
   "metadata": {},
   "outputs": [
    {
     "name": "stdout",
     "output_type": "stream",
     "text": [
      "<class 'pandas.core.frame.DataFrame'>\n",
      "RangeIndex: 4100 entries, 0 to 4099\n",
      "Data columns (total 4 columns):\n",
      " #   Column      Non-Null Count  Dtype \n",
      "---  ------      --------------  ----- \n",
      " 0   item_nbr    4100 non-null   int64 \n",
      " 1   family      4100 non-null   object\n",
      " 2   class       4100 non-null   int64 \n",
      " 3   perishable  4100 non-null   int64 \n",
      "dtypes: int64(3), object(1)\n",
      "memory usage: 128.2+ KB\n"
     ]
    }
   ],
   "source": [
    "items.info()"
   ]
  },
  {
   "cell_type": "code",
   "execution_count": 32,
   "id": "84cd9164",
   "metadata": {},
   "outputs": [
    {
     "data": {
      "text/plain": [
       "<AxesSubplot:>"
      ]
     },
     "execution_count": 32,
     "metadata": {},
     "output_type": "execute_result"
    },
    {
     "data": {
      "image/png": "[encoded data removed]",
      "text/plain": [
       "<Figure size 576x576 with 1 Axes>"
      ]
     },
     "metadata": {
      "needs_background": "light"
     },
     "output_type": "display_data"
    }
   ],
   "source": [
    "items['family'].value_counts(1).plot(kind= 'barh', figsize= (8,8))"
   ]
  },
  {
   "cell_type": "code",
   "execution_count": 34,
   "id": "e9721415",
   "metadata": {},
   "outputs": [
    {
     "data": {
      "text/plain": [
       "0    75.95122\n",
       "1    24.04878\n",
       "Name: perishable, dtype: float64"
      ]
     },
     "execution_count": 34,
     "metadata": {},
     "output_type": "execute_result"
    }
   ],
   "source": [
    "# Grocery 1, Beverages, Cleaning, Produce and Dairy consitute around 70% of the items\n",
    "\n",
    "# Lets check how many perishable and non-perishable items are there in the dataset\n",
    "items['perishable'].value_counts(1)*100"
   ]
  },
  {
   "cell_type": "code",
   "execution_count": null,
   "id": "4cb0a9c6",
   "metadata": {},
   "outputs": [],
   "source": [
    "# Sufficient number of obervations for both perishable and non-perishable items to train an ML model"
   ]
  },
  {
   "cell_type": "code",
   "execution_count": 38,
   "id": "81dc64d7",
   "metadata": {},
   "outputs": [],
   "source": [
    "# Importing stores dataframe\n",
    "stores = pd.read_csv(\"C:\\\\Users\\\\adity\\\\Documents\\\\Winter Semester'22 Courses MMA McGill\\\\Enterprise Data Science\\\\Group Project\\\\Data Files\\\\stores.csv\")"
   ]
  },
  {
   "cell_type": "code",
   "execution_count": 40,
   "id": "ec7f1619",
   "metadata": {},
   "outputs": [
    {
     "data": {
      "text/html": [
       "<div>\n",
       "<style scoped>\n",
       "    .dataframe tbody tr th:only-of-type {\n",
       "        vertical-align: middle;\n",
       "    }\n",
       "\n",
       "    .dataframe tbody tr th {\n",
       "        vertical-align: top;\n",
       "    }\n",
       "\n",
       "    .dataframe thead th {\n",
       "        text-align: right;\n",
       "    }\n",
       "</style>\n",
       "<table border=\"1\" class=\"dataframe\">\n",
       "  <thead>\n",
       "    <tr style=\"text-align: right;\">\n",
       "      <th></th>\n",
       "      <th>store_nbr</th>\n",
       "      <th>city</th>\n",
       "      <th>state</th>\n",
       "      <th>type</th>\n",
       "      <th>cluster</th>\n",
       "    </tr>\n",
       "  </thead>\n",
       "  <tbody>\n",
       "    <tr>\n",
       "      <th>0</th>\n",
       "      <td>1</td>\n",
       "      <td>Quito</td>\n",
       "      <td>Pichincha</td>\n",
       "      <td>D</td>\n",
       "      <td>13</td>\n",
       "    </tr>\n",
       "    <tr>\n",
       "      <th>1</th>\n",
       "      <td>2</td>\n",
       "      <td>Quito</td>\n",
       "      <td>Pichincha</td>\n",
       "      <td>D</td>\n",
       "      <td>13</td>\n",
       "    </tr>\n",
       "    <tr>\n",
       "      <th>2</th>\n",
       "      <td>3</td>\n",
       "      <td>Quito</td>\n",
       "      <td>Pichincha</td>\n",
       "      <td>D</td>\n",
       "      <td>8</td>\n",
       "    </tr>\n",
       "    <tr>\n",
       "      <th>3</th>\n",
       "      <td>4</td>\n",
       "      <td>Quito</td>\n",
       "      <td>Pichincha</td>\n",
       "      <td>D</td>\n",
       "      <td>9</td>\n",
       "    </tr>\n",
       "    <tr>\n",
       "      <th>4</th>\n",
       "      <td>5</td>\n",
       "      <td>Santo Domingo</td>\n",
       "      <td>Santo Domingo de los Tsachilas</td>\n",
       "      <td>D</td>\n",
       "      <td>4</td>\n",
       "    </tr>\n",
       "  </tbody>\n",
       "</table>\n",
       "</div>"
      ],
      "text/plain": [
       "   store_nbr           city                           state type  cluster\n",
       "0          1          Quito                       Pichincha    D       13\n",
       "1          2          Quito                       Pichincha    D       13\n",
       "2          3          Quito                       Pichincha    D        8\n",
       "3          4          Quito                       Pichincha    D        9\n",
       "4          5  Santo Domingo  Santo Domingo de los Tsachilas    D        4"
      ]
     },
     "execution_count": 40,
     "metadata": {},
     "output_type": "execute_result"
    }
   ],
   "source": [
    "stores.head()"
   ]
  },
  {
   "cell_type": "code",
   "execution_count": 41,
   "id": "c414767d",
   "metadata": {},
   "outputs": [
    {
     "name": "stdout",
     "output_type": "stream",
     "text": [
      "<class 'pandas.core.frame.DataFrame'>\n",
      "RangeIndex: 54 entries, 0 to 53\n",
      "Data columns (total 5 columns):\n",
      " #   Column     Non-Null Count  Dtype \n",
      "---  ------     --------------  ----- \n",
      " 0   store_nbr  54 non-null     int64 \n",
      " 1   city       54 non-null     object\n",
      " 2   state      54 non-null     object\n",
      " 3   type       54 non-null     object\n",
      " 4   cluster    54 non-null     int64 \n",
      "dtypes: int64(2), object(3)\n",
      "memory usage: 2.2+ KB\n"
     ]
    }
   ],
   "source": [
    "stores.info()"
   ]
  },
  {
   "cell_type": "code",
   "execution_count": 42,
   "id": "273ddb30",
   "metadata": {},
   "outputs": [
    {
     "data": {
      "text/plain": [
       "Quito            18\n",
       "Guayaquil         8\n",
       "Cuenca            3\n",
       "Santo Domingo     3\n",
       "Latacunga         2\n",
       "Manta             2\n",
       "Machala           2\n",
       "Ambato            2\n",
       "Ibarra            1\n",
       "Quevedo           1\n",
       "Playas            1\n",
       "Salinas           1\n",
       "Riobamba          1\n",
       "Loja              1\n",
       "Cayambe           1\n",
       "Libertad          1\n",
       "Babahoyo          1\n",
       "Guaranda          1\n",
       "El Carmen         1\n",
       "Puyo              1\n",
       "Daule             1\n",
       "Esmeraldas        1\n",
       "Name: city, dtype: int64"
      ]
     },
     "execution_count": 42,
     "metadata": {},
     "output_type": "execute_result"
    }
   ],
   "source": [
    "stores['city'].value_counts()"
   ]
  },
  {
   "cell_type": "code",
   "execution_count": 43,
   "id": "75443572",
   "metadata": {},
   "outputs": [
    {
     "data": {
      "text/plain": [
       "Pichincha                         19\n",
       "Guayas                            11\n",
       "Azuay                              3\n",
       "Santo Domingo de los Tsachilas     3\n",
       "Manabi                             3\n",
       "El Oro                             2\n",
       "Tungurahua                         2\n",
       "Cotopaxi                           2\n",
       "Los Rios                           2\n",
       "Esmeraldas                         1\n",
       "Pastaza                            1\n",
       "Bolivar                            1\n",
       "Loja                               1\n",
       "Imbabura                           1\n",
       "Santa Elena                        1\n",
       "Chimborazo                         1\n",
       "Name: state, dtype: int64"
      ]
     },
     "execution_count": 43,
     "metadata": {},
     "output_type": "execute_result"
    }
   ],
   "source": [
    "stores['state'].value_counts()"
   ]
  },
  {
   "cell_type": "code",
   "execution_count": 44,
   "id": "d24ae88a",
   "metadata": {},
   "outputs": [
    {
     "data": {
      "text/plain": [
       "D    18\n",
       "C    15\n",
       "A     9\n",
       "B     8\n",
       "E     4\n",
       "Name: type, dtype: int64"
      ]
     },
     "execution_count": 44,
     "metadata": {},
     "output_type": "execute_result"
    }
   ],
   "source": [
    "stores['type'].value_counts()"
   ]
  },
  {
   "cell_type": "code",
   "execution_count": 45,
   "id": "708d67bf",
   "metadata": {},
   "outputs": [
    {
     "data": {
      "text/plain": [
       "3     7\n",
       "6     6\n",
       "10    6\n",
       "15    5\n",
       "14    4\n",
       "13    4\n",
       "1     3\n",
       "11    3\n",
       "4     3\n",
       "8     3\n",
       "9     2\n",
       "2     2\n",
       "7     2\n",
       "12    1\n",
       "5     1\n",
       "16    1\n",
       "17    1\n",
       "Name: cluster, dtype: int64"
      ]
     },
     "execution_count": 45,
     "metadata": {},
     "output_type": "execute_result"
    }
   ],
   "source": [
    "stores['cluster'].value_counts()"
   ]
  },
  {
   "cell_type": "code",
   "execution_count": 49,
   "id": "606288cf",
   "metadata": {},
   "outputs": [],
   "source": [
    "# Importing Transactions dataframe\n",
    "transactions = pd.read_csv(\"C:\\\\Users\\\\adity\\\\Documents\\\\Winter Semester'22 Courses MMA McGill\\\\Enterprise Data Science\\\\Group Project\\\\Data Files\\\\transactions.csv\", parse_dates=[0])"
   ]
  },
  {
   "cell_type": "code",
   "execution_count": 50,
   "id": "0183deba",
   "metadata": {},
   "outputs": [
    {
     "data": {
      "text/html": [
       "<div>\n",
       "<style scoped>\n",
       "    .dataframe tbody tr th:only-of-type {\n",
       "        vertical-align: middle;\n",
       "    }\n",
       "\n",
       "    .dataframe tbody tr th {\n",
       "        vertical-align: top;\n",
       "    }\n",
       "\n",
       "    .dataframe thead th {\n",
       "        text-align: right;\n",
       "    }\n",
       "</style>\n",
       "<table border=\"1\" class=\"dataframe\">\n",
       "  <thead>\n",
       "    <tr style=\"text-align: right;\">\n",
       "      <th></th>\n",
       "      <th>date</th>\n",
       "      <th>store_nbr</th>\n",
       "      <th>transactions</th>\n",
       "    </tr>\n",
       "  </thead>\n",
       "  <tbody>\n",
       "    <tr>\n",
       "      <th>0</th>\n",
       "      <td>2013-01-01</td>\n",
       "      <td>25</td>\n",
       "      <td>770</td>\n",
       "    </tr>\n",
       "    <tr>\n",
       "      <th>1</th>\n",
       "      <td>2013-01-02</td>\n",
       "      <td>1</td>\n",
       "      <td>2111</td>\n",
       "    </tr>\n",
       "    <tr>\n",
       "      <th>2</th>\n",
       "      <td>2013-01-02</td>\n",
       "      <td>2</td>\n",
       "      <td>2358</td>\n",
       "    </tr>\n",
       "    <tr>\n",
       "      <th>3</th>\n",
       "      <td>2013-01-02</td>\n",
       "      <td>3</td>\n",
       "      <td>3487</td>\n",
       "    </tr>\n",
       "    <tr>\n",
       "      <th>4</th>\n",
       "      <td>2013-01-02</td>\n",
       "      <td>4</td>\n",
       "      <td>1922</td>\n",
       "    </tr>\n",
       "  </tbody>\n",
       "</table>\n",
       "</div>"
      ],
      "text/plain": [
       "        date  store_nbr  transactions\n",
       "0 2013-01-01         25           770\n",
       "1 2013-01-02          1          2111\n",
       "2 2013-01-02          2          2358\n",
       "3 2013-01-02          3          3487\n",
       "4 2013-01-02          4          1922"
      ]
     },
     "execution_count": 50,
     "metadata": {},
     "output_type": "execute_result"
    }
   ],
   "source": [
    "transactions.head()"
   ]
  },
  {
   "cell_type": "code",
   "execution_count": 51,
   "id": "24fafa53",
   "metadata": {},
   "outputs": [
    {
     "name": "stdout",
     "output_type": "stream",
     "text": [
      "2013-01-01 00:00:00\n",
      "2017-08-15 00:00:00\n"
     ]
    }
   ],
   "source": [
    "print(transactions['date'].min())\n",
    "print(transactions['date'].max())"
   ]
  },
  {
   "cell_type": "code",
   "execution_count": 52,
   "id": "e2053daa",
   "metadata": {},
   "outputs": [
    {
     "name": "stdout",
     "output_type": "stream",
     "text": [
      "<class 'pandas.core.frame.DataFrame'>\n",
      "RangeIndex: 83488 entries, 0 to 83487\n",
      "Data columns (total 3 columns):\n",
      " #   Column        Non-Null Count  Dtype         \n",
      "---  ------        --------------  -----         \n",
      " 0   date          83488 non-null  datetime64[ns]\n",
      " 1   store_nbr     83488 non-null  int64         \n",
      " 2   transactions  83488 non-null  int64         \n",
      "dtypes: datetime64[ns](1), int64(2)\n",
      "memory usage: 1.9 MB\n"
     ]
    }
   ],
   "source": [
    "transactions.info()"
   ]
  },
  {
   "cell_type": "code",
   "execution_count": 71,
   "id": "f1a04281",
   "metadata": {},
   "outputs": [],
   "source": [
    "total_store_trans = transactions.groupby(\"store_nbr\")['transactions'].sum().sort_values(ascending= False)\n",
    "total_store_trans = pd.DataFrame(total_store_trans)"
   ]
  },
  {
   "cell_type": "code",
   "execution_count": 72,
   "id": "88be6904",
   "metadata": {},
   "outputs": [],
   "source": [
    "total_transactions = transactions['transactions'].sum()"
   ]
  },
  {
   "cell_type": "code",
   "execution_count": 73,
   "id": "aeeae710",
   "metadata": {},
   "outputs": [],
   "source": [
    "total_store_trans['total_transactions_across_ecuador'] = total_transactions"
   ]
  },
  {
   "cell_type": "code",
   "execution_count": 74,
   "id": "db0523d1",
   "metadata": {},
   "outputs": [],
   "source": [
    "total_store_trans['percent_contri'] = (total_store_trans['transactions'] / total_transactions)*100"
   ]
  },
  {
   "cell_type": "code",
   "execution_count": 75,
   "id": "2e6155bb",
   "metadata": {},
   "outputs": [
    {
     "data": {
      "text/html": [
       "<div>\n",
       "<style scoped>\n",
       "    .dataframe tbody tr th:only-of-type {\n",
       "        vertical-align: middle;\n",
       "    }\n",
       "\n",
       "    .dataframe tbody tr th {\n",
       "        vertical-align: top;\n",
       "    }\n",
       "\n",
       "    .dataframe thead th {\n",
       "        text-align: right;\n",
       "    }\n",
       "</style>\n",
       "<table border=\"1\" class=\"dataframe\">\n",
       "  <thead>\n",
       "    <tr style=\"text-align: right;\">\n",
       "      <th></th>\n",
       "      <th>transactions</th>\n",
       "      <th>total_transactions_across_ecuador</th>\n",
       "      <th>percent_contri</th>\n",
       "    </tr>\n",
       "    <tr>\n",
       "      <th>store_nbr</th>\n",
       "      <th></th>\n",
       "      <th></th>\n",
       "      <th></th>\n",
       "    </tr>\n",
       "  </thead>\n",
       "  <tbody>\n",
       "    <tr>\n",
       "      <th>44</th>\n",
       "      <td>7273093</td>\n",
       "      <td>141478945</td>\n",
       "      <td>5.140760</td>\n",
       "    </tr>\n",
       "    <tr>\n",
       "      <th>47</th>\n",
       "      <td>6535810</td>\n",
       "      <td>141478945</td>\n",
       "      <td>4.619634</td>\n",
       "    </tr>\n",
       "    <tr>\n",
       "      <th>45</th>\n",
       "      <td>6201115</td>\n",
       "      <td>141478945</td>\n",
       "      <td>4.383066</td>\n",
       "    </tr>\n",
       "    <tr>\n",
       "      <th>46</th>\n",
       "      <td>5990113</td>\n",
       "      <td>141478945</td>\n",
       "      <td>4.233925</td>\n",
       "    </tr>\n",
       "    <tr>\n",
       "      <th>3</th>\n",
       "      <td>5366350</td>\n",
       "      <td>141478945</td>\n",
       "      <td>3.793038</td>\n",
       "    </tr>\n",
       "    <tr>\n",
       "      <th>48</th>\n",
       "      <td>5107785</td>\n",
       "      <td>141478945</td>\n",
       "      <td>3.610279</td>\n",
       "    </tr>\n",
       "    <tr>\n",
       "      <th>8</th>\n",
       "      <td>4637971</td>\n",
       "      <td>141478945</td>\n",
       "      <td>3.278206</td>\n",
       "    </tr>\n",
       "    <tr>\n",
       "      <th>49</th>\n",
       "      <td>4574103</td>\n",
       "      <td>141478945</td>\n",
       "      <td>3.233063</td>\n",
       "    </tr>\n",
       "    <tr>\n",
       "      <th>50</th>\n",
       "      <td>4384444</td>\n",
       "      <td>141478945</td>\n",
       "      <td>3.099008</td>\n",
       "    </tr>\n",
       "    <tr>\n",
       "      <th>11</th>\n",
       "      <td>3972488</td>\n",
       "      <td>141478945</td>\n",
       "      <td>2.807830</td>\n",
       "    </tr>\n",
       "    <tr>\n",
       "      <th>34</th>\n",
       "      <td>3864018</td>\n",
       "      <td>141478945</td>\n",
       "      <td>2.731161</td>\n",
       "    </tr>\n",
       "    <tr>\n",
       "      <th>24</th>\n",
       "      <td>3568206</td>\n",
       "      <td>141478945</td>\n",
       "      <td>2.522076</td>\n",
       "    </tr>\n",
       "    <tr>\n",
       "      <th>9</th>\n",
       "      <td>3516162</td>\n",
       "      <td>141478945</td>\n",
       "      <td>2.485290</td>\n",
       "    </tr>\n",
       "    <tr>\n",
       "      <th>2</th>\n",
       "      <td>3219901</td>\n",
       "      <td>141478945</td>\n",
       "      <td>2.275887</td>\n",
       "    </tr>\n",
       "    <tr>\n",
       "      <th>6</th>\n",
       "      <td>3065896</td>\n",
       "      <td>141478945</td>\n",
       "      <td>2.167033</td>\n",
       "    </tr>\n",
       "    <tr>\n",
       "      <th>7</th>\n",
       "      <td>2995993</td>\n",
       "      <td>141478945</td>\n",
       "      <td>2.117625</td>\n",
       "    </tr>\n",
       "    <tr>\n",
       "      <th>51</th>\n",
       "      <td>2873614</td>\n",
       "      <td>141478945</td>\n",
       "      <td>2.031125</td>\n",
       "    </tr>\n",
       "    <tr>\n",
       "      <th>38</th>\n",
       "      <td>2867052</td>\n",
       "      <td>141478945</td>\n",
       "      <td>2.026487</td>\n",
       "    </tr>\n",
       "    <tr>\n",
       "      <th>1</th>\n",
       "      <td>2553963</td>\n",
       "      <td>141478945</td>\n",
       "      <td>1.805189</td>\n",
       "    </tr>\n",
       "    <tr>\n",
       "      <th>4</th>\n",
       "      <td>2519007</td>\n",
       "      <td>141478945</td>\n",
       "      <td>1.780482</td>\n",
       "    </tr>\n",
       "    <tr>\n",
       "      <th>27</th>\n",
       "      <td>2485687</td>\n",
       "      <td>141478945</td>\n",
       "      <td>1.756931</td>\n",
       "    </tr>\n",
       "    <tr>\n",
       "      <th>37</th>\n",
       "      <td>2481719</td>\n",
       "      <td>141478945</td>\n",
       "      <td>1.754126</td>\n",
       "    </tr>\n",
       "    <tr>\n",
       "      <th>39</th>\n",
       "      <td>2389482</td>\n",
       "      <td>141478945</td>\n",
       "      <td>1.688931</td>\n",
       "    </tr>\n",
       "    <tr>\n",
       "      <th>5</th>\n",
       "      <td>2347877</td>\n",
       "      <td>141478945</td>\n",
       "      <td>1.659524</td>\n",
       "    </tr>\n",
       "    <tr>\n",
       "      <th>31</th>\n",
       "      <td>2306044</td>\n",
       "      <td>141478945</td>\n",
       "      <td>1.629956</td>\n",
       "    </tr>\n",
       "    <tr>\n",
       "      <th>17</th>\n",
       "      <td>2295485</td>\n",
       "      <td>141478945</td>\n",
       "      <td>1.622492</td>\n",
       "    </tr>\n",
       "    <tr>\n",
       "      <th>14</th>\n",
       "      <td>2287850</td>\n",
       "      <td>141478945</td>\n",
       "      <td>1.617096</td>\n",
       "    </tr>\n",
       "    <tr>\n",
       "      <th>15</th>\n",
       "      <td>2209898</td>\n",
       "      <td>141478945</td>\n",
       "      <td>1.561998</td>\n",
       "    </tr>\n",
       "    <tr>\n",
       "      <th>43</th>\n",
       "      <td>2182356</td>\n",
       "      <td>141478945</td>\n",
       "      <td>1.542531</td>\n",
       "    </tr>\n",
       "    <tr>\n",
       "      <th>40</th>\n",
       "      <td>2181195</td>\n",
       "      <td>141478945</td>\n",
       "      <td>1.541710</td>\n",
       "    </tr>\n",
       "    <tr>\n",
       "      <th>19</th>\n",
       "      <td>2107489</td>\n",
       "      <td>141478945</td>\n",
       "      <td>1.489613</td>\n",
       "    </tr>\n",
       "    <tr>\n",
       "      <th>18</th>\n",
       "      <td>2071278</td>\n",
       "      <td>141478945</td>\n",
       "      <td>1.464019</td>\n",
       "    </tr>\n",
       "    <tr>\n",
       "      <th>12</th>\n",
       "      <td>1958852</td>\n",
       "      <td>141478945</td>\n",
       "      <td>1.384554</td>\n",
       "    </tr>\n",
       "    <tr>\n",
       "      <th>28</th>\n",
       "      <td>1957594</td>\n",
       "      <td>141478945</td>\n",
       "      <td>1.383665</td>\n",
       "    </tr>\n",
       "    <tr>\n",
       "      <th>23</th>\n",
       "      <td>1788171</td>\n",
       "      <td>141478945</td>\n",
       "      <td>1.263913</td>\n",
       "    </tr>\n",
       "    <tr>\n",
       "      <th>41</th>\n",
       "      <td>1764146</td>\n",
       "      <td>141478945</td>\n",
       "      <td>1.246932</td>\n",
       "    </tr>\n",
       "    <tr>\n",
       "      <th>33</th>\n",
       "      <td>1743003</td>\n",
       "      <td>141478945</td>\n",
       "      <td>1.231988</td>\n",
       "    </tr>\n",
       "    <tr>\n",
       "      <th>36</th>\n",
       "      <td>1738129</td>\n",
       "      <td>141478945</td>\n",
       "      <td>1.228543</td>\n",
       "    </tr>\n",
       "    <tr>\n",
       "      <th>10</th>\n",
       "      <td>1652493</td>\n",
       "      <td>141478945</td>\n",
       "      <td>1.168013</td>\n",
       "    </tr>\n",
       "    <tr>\n",
       "      <th>13</th>\n",
       "      <td>1572504</td>\n",
       "      <td>141478945</td>\n",
       "      <td>1.111476</td>\n",
       "    </tr>\n",
       "    <tr>\n",
       "      <th>25</th>\n",
       "      <td>1520362</td>\n",
       "      <td>141478945</td>\n",
       "      <td>1.074621</td>\n",
       "    </tr>\n",
       "    <tr>\n",
       "      <th>16</th>\n",
       "      <td>1464498</td>\n",
       "      <td>141478945</td>\n",
       "      <td>1.035135</td>\n",
       "    </tr>\n",
       "    <tr>\n",
       "      <th>54</th>\n",
       "      <td>1451290</td>\n",
       "      <td>141478945</td>\n",
       "      <td>1.025799</td>\n",
       "    </tr>\n",
       "    <tr>\n",
       "      <th>20</th>\n",
       "      <td>1422539</td>\n",
       "      <td>141478945</td>\n",
       "      <td>1.005478</td>\n",
       "    </tr>\n",
       "    <tr>\n",
       "      <th>53</th>\n",
       "      <td>1180082</td>\n",
       "      <td>141478945</td>\n",
       "      <td>0.834104</td>\n",
       "    </tr>\n",
       "    <tr>\n",
       "      <th>30</th>\n",
       "      <td>1171130</td>\n",
       "      <td>141478945</td>\n",
       "      <td>0.827777</td>\n",
       "    </tr>\n",
       "    <tr>\n",
       "      <th>35</th>\n",
       "      <td>1123889</td>\n",
       "      <td>141478945</td>\n",
       "      <td>0.794386</td>\n",
       "    </tr>\n",
       "    <tr>\n",
       "      <th>32</th>\n",
       "      <td>1065226</td>\n",
       "      <td>141478945</td>\n",
       "      <td>0.752922</td>\n",
       "    </tr>\n",
       "    <tr>\n",
       "      <th>26</th>\n",
       "      <td>1065059</td>\n",
       "      <td>141478945</td>\n",
       "      <td>0.752804</td>\n",
       "    </tr>\n",
       "    <tr>\n",
       "      <th>29</th>\n",
       "      <td>981448</td>\n",
       "      <td>141478945</td>\n",
       "      <td>0.693706</td>\n",
       "    </tr>\n",
       "    <tr>\n",
       "      <th>21</th>\n",
       "      <td>842891</td>\n",
       "      <td>141478945</td>\n",
       "      <td>0.595771</td>\n",
       "    </tr>\n",
       "    <tr>\n",
       "      <th>42</th>\n",
       "      <td>802646</td>\n",
       "      <td>141478945</td>\n",
       "      <td>0.567325</td>\n",
       "    </tr>\n",
       "    <tr>\n",
       "      <th>22</th>\n",
       "      <td>504156</td>\n",
       "      <td>141478945</td>\n",
       "      <td>0.356347</td>\n",
       "    </tr>\n",
       "    <tr>\n",
       "      <th>52</th>\n",
       "      <td>275393</td>\n",
       "      <td>141478945</td>\n",
       "      <td>0.194653</td>\n",
       "    </tr>\n",
       "  </tbody>\n",
       "</table>\n",
       "</div>"
      ],
      "text/plain": [
       "           transactions  total_transactions_across_ecuador  percent_contri\n",
       "store_nbr                                                                 \n",
       "44              7273093                          141478945        5.140760\n",
       "47              6535810                          141478945        4.619634\n",
       "45              6201115                          141478945        4.383066\n",
       "46              5990113                          141478945        4.233925\n",
       "3               5366350                          141478945        3.793038\n",
       "48              5107785                          141478945        3.610279\n",
       "8               4637971                          141478945        3.278206\n",
       "49              4574103                          141478945        3.233063\n",
       "50              4384444                          141478945        3.099008\n",
       "11              3972488                          141478945        2.807830\n",
       "34              3864018                          141478945        2.731161\n",
       "24              3568206                          141478945        2.522076\n",
       "9               3516162                          141478945        2.485290\n",
       "2               3219901                          141478945        2.275887\n",
       "6               3065896                          141478945        2.167033\n",
       "7               2995993                          141478945        2.117625\n",
       "51              2873614                          141478945        2.031125\n",
       "38              2867052                          141478945        2.026487\n",
       "1               2553963                          141478945        1.805189\n",
       "4               2519007                          141478945        1.780482\n",
       "27              2485687                          141478945        1.756931\n",
       "37              2481719                          141478945        1.754126\n",
       "39              2389482                          141478945        1.688931\n",
       "5               2347877                          141478945        1.659524\n",
       "31              2306044                          141478945        1.629956\n",
       "17              2295485                          141478945        1.622492\n",
       "14              2287850                          141478945        1.617096\n",
       "15              2209898                          141478945        1.561998\n",
       "43              2182356                          141478945        1.542531\n",
       "40              2181195                          141478945        1.541710\n",
       "19              2107489                          141478945        1.489613\n",
       "18              2071278                          141478945        1.464019\n",
       "12              1958852                          141478945        1.384554\n",
       "28              1957594                          141478945        1.383665\n",
       "23              1788171                          141478945        1.263913\n",
       "41              1764146                          141478945        1.246932\n",
       "33              1743003                          141478945        1.231988\n",
       "36              1738129                          141478945        1.228543\n",
       "10              1652493                          141478945        1.168013\n",
       "13              1572504                          141478945        1.111476\n",
       "25              1520362                          141478945        1.074621\n",
       "16              1464498                          141478945        1.035135\n",
       "54              1451290                          141478945        1.025799\n",
       "20              1422539                          141478945        1.005478\n",
       "53              1180082                          141478945        0.834104\n",
       "30              1171130                          141478945        0.827777\n",
       "35              1123889                          141478945        0.794386\n",
       "32              1065226                          141478945        0.752922\n",
       "26              1065059                          141478945        0.752804\n",
       "29               981448                          141478945        0.693706\n",
       "21               842891                          141478945        0.595771\n",
       "42               802646                          141478945        0.567325\n",
       "22               504156                          141478945        0.356347\n",
       "52               275393                          141478945        0.194653"
      ]
     },
     "execution_count": 75,
     "metadata": {},
     "output_type": "execute_result"
    }
   ],
   "source": [
    "total_store_trans"
   ]
  },
  {
   "cell_type": "markdown",
   "id": "f610c8e8",
   "metadata": {},
   "source": [
    "From transactions we can extract month, day, year, day_of_the_week, etc to see which stores get more sales during which months, weeks, days, etc (i.e. check any seasonality if present)"
   ]
  },
  {
   "cell_type": "code",
   "execution_count": 76,
   "id": "d5439d77",
   "metadata": {},
   "outputs": [
    {
     "name": "stderr",
     "output_type": "stream",
     "text": [
      "C:\\Users\\adity\\anaconda3\\lib\\site-packages\\IPython\\core\\interactiveshell.py:3165: DtypeWarning: Columns (5) have mixed types.Specify dtype option on import or set low_memory=False.\n",
      "  has_raised = await self.run_ast_nodes(code_ast.body, cell_name,\n"
     ]
    }
   ],
   "source": [
    "# Importing the training set\n",
    "train = pd.read_csv(\"C:\\\\Users\\\\adity\\\\Documents\\\\Winter Semester'22 Courses MMA McGill\\\\Enterprise Data Science\\\\Group Project\\\\Data Files\\\\train.csv\")"
   ]
  },
  {
   "cell_type": "code",
   "execution_count": 77,
   "id": "35799896",
   "metadata": {},
   "outputs": [
    {
     "data": {
      "text/html": [
       "<div>\n",
       "<style scoped>\n",
       "    .dataframe tbody tr th:only-of-type {\n",
       "        vertical-align: middle;\n",
       "    }\n",
       "\n",
       "    .dataframe tbody tr th {\n",
       "        vertical-align: top;\n",
       "    }\n",
       "\n",
       "    .dataframe thead th {\n",
       "        text-align: right;\n",
       "    }\n",
       "</style>\n",
       "<table border=\"1\" class=\"dataframe\">\n",
       "  <thead>\n",
       "    <tr style=\"text-align: right;\">\n",
       "      <th></th>\n",
       "      <th>id</th>\n",
       "      <th>date</th>\n",
       "      <th>store_nbr</th>\n",
       "      <th>item_nbr</th>\n",
       "      <th>unit_sales</th>\n",
       "      <th>onpromotion</th>\n",
       "    </tr>\n",
       "  </thead>\n",
       "  <tbody>\n",
       "    <tr>\n",
       "      <th>0</th>\n",
       "      <td>0</td>\n",
       "      <td>2013-01-01</td>\n",
       "      <td>25</td>\n",
       "      <td>103665</td>\n",
       "      <td>7.0</td>\n",
       "      <td>NaN</td>\n",
       "    </tr>\n",
       "    <tr>\n",
       "      <th>1</th>\n",
       "      <td>1</td>\n",
       "      <td>2013-01-01</td>\n",
       "      <td>25</td>\n",
       "      <td>105574</td>\n",
       "      <td>1.0</td>\n",
       "      <td>NaN</td>\n",
       "    </tr>\n",
       "    <tr>\n",
       "      <th>2</th>\n",
       "      <td>2</td>\n",
       "      <td>2013-01-01</td>\n",
       "      <td>25</td>\n",
       "      <td>105575</td>\n",
       "      <td>2.0</td>\n",
       "      <td>NaN</td>\n",
       "    </tr>\n",
       "    <tr>\n",
       "      <th>3</th>\n",
       "      <td>3</td>\n",
       "      <td>2013-01-01</td>\n",
       "      <td>25</td>\n",
       "      <td>108079</td>\n",
       "      <td>1.0</td>\n",
       "      <td>NaN</td>\n",
       "    </tr>\n",
       "    <tr>\n",
       "      <th>4</th>\n",
       "      <td>4</td>\n",
       "      <td>2013-01-01</td>\n",
       "      <td>25</td>\n",
       "      <td>108701</td>\n",
       "      <td>1.0</td>\n",
       "      <td>NaN</td>\n",
       "    </tr>\n",
       "  </tbody>\n",
       "</table>\n",
       "</div>"
      ],
      "text/plain": [
       "   id        date  store_nbr  item_nbr  unit_sales onpromotion\n",
       "0   0  2013-01-01         25    103665         7.0         NaN\n",
       "1   1  2013-01-01         25    105574         1.0         NaN\n",
       "2   2  2013-01-01         25    105575         2.0         NaN\n",
       "3   3  2013-01-01         25    108079         1.0         NaN\n",
       "4   4  2013-01-01         25    108701         1.0         NaN"
      ]
     },
     "execution_count": 77,
     "metadata": {},
     "output_type": "execute_result"
    }
   ],
   "source": [
    "train.head()"
   ]
  },
  {
   "cell_type": "code",
   "execution_count": 78,
   "id": "1d036e33",
   "metadata": {},
   "outputs": [
    {
     "data": {
      "text/plain": [
       "4036"
      ]
     },
     "execution_count": 78,
     "metadata": {},
     "output_type": "execute_result"
    }
   ],
   "source": [
    "len(train['item_nbr'].unique())"
   ]
  },
  {
   "cell_type": "code",
   "execution_count": 79,
   "id": "3d90c2d5",
   "metadata": {},
   "outputs": [],
   "source": [
    "train_2 = pd.merge(train, items, on= 'item_nbr', how= 'inner')"
   ]
  },
  {
   "cell_type": "code",
   "execution_count": 80,
   "id": "80d35e73",
   "metadata": {},
   "outputs": [
    {
     "data": {
      "text/html": [
       "<div>\n",
       "<style scoped>\n",
       "    .dataframe tbody tr th:only-of-type {\n",
       "        vertical-align: middle;\n",
       "    }\n",
       "\n",
       "    .dataframe tbody tr th {\n",
       "        vertical-align: top;\n",
       "    }\n",
       "\n",
       "    .dataframe thead th {\n",
       "        text-align: right;\n",
       "    }\n",
       "</style>\n",
       "<table border=\"1\" class=\"dataframe\">\n",
       "  <thead>\n",
       "    <tr style=\"text-align: right;\">\n",
       "      <th></th>\n",
       "      <th>id</th>\n",
       "      <th>date</th>\n",
       "      <th>store_nbr</th>\n",
       "      <th>item_nbr</th>\n",
       "      <th>unit_sales</th>\n",
       "      <th>onpromotion</th>\n",
       "      <th>family</th>\n",
       "      <th>class</th>\n",
       "      <th>perishable</th>\n",
       "    </tr>\n",
       "  </thead>\n",
       "  <tbody>\n",
       "    <tr>\n",
       "      <th>0</th>\n",
       "      <td>0</td>\n",
       "      <td>2013-01-01</td>\n",
       "      <td>25</td>\n",
       "      <td>103665</td>\n",
       "      <td>7.0</td>\n",
       "      <td>NaN</td>\n",
       "      <td>BREAD/BAKERY</td>\n",
       "      <td>2712</td>\n",
       "      <td>1</td>\n",
       "    </tr>\n",
       "    <tr>\n",
       "      <th>1</th>\n",
       "      <td>578</td>\n",
       "      <td>2013-01-02</td>\n",
       "      <td>1</td>\n",
       "      <td>103665</td>\n",
       "      <td>2.0</td>\n",
       "      <td>NaN</td>\n",
       "      <td>BREAD/BAKERY</td>\n",
       "      <td>2712</td>\n",
       "      <td>1</td>\n",
       "    </tr>\n",
       "    <tr>\n",
       "      <th>2</th>\n",
       "      <td>1596</td>\n",
       "      <td>2013-01-02</td>\n",
       "      <td>2</td>\n",
       "      <td>103665</td>\n",
       "      <td>5.0</td>\n",
       "      <td>NaN</td>\n",
       "      <td>BREAD/BAKERY</td>\n",
       "      <td>2712</td>\n",
       "      <td>1</td>\n",
       "    </tr>\n",
       "    <tr>\n",
       "      <th>3</th>\n",
       "      <td>2699</td>\n",
       "      <td>2013-01-02</td>\n",
       "      <td>3</td>\n",
       "      <td>103665</td>\n",
       "      <td>6.0</td>\n",
       "      <td>NaN</td>\n",
       "      <td>BREAD/BAKERY</td>\n",
       "      <td>2712</td>\n",
       "      <td>1</td>\n",
       "    </tr>\n",
       "    <tr>\n",
       "      <th>4</th>\n",
       "      <td>3900</td>\n",
       "      <td>2013-01-02</td>\n",
       "      <td>4</td>\n",
       "      <td>103665</td>\n",
       "      <td>2.0</td>\n",
       "      <td>NaN</td>\n",
       "      <td>BREAD/BAKERY</td>\n",
       "      <td>2712</td>\n",
       "      <td>1</td>\n",
       "    </tr>\n",
       "  </tbody>\n",
       "</table>\n",
       "</div>"
      ],
      "text/plain": [
       "     id        date  store_nbr  item_nbr  unit_sales onpromotion  \\\n",
       "0     0  2013-01-01         25    103665         7.0         NaN   \n",
       "1   578  2013-01-02          1    103665         2.0         NaN   \n",
       "2  1596  2013-01-02          2    103665         5.0         NaN   \n",
       "3  2699  2013-01-02          3    103665         6.0         NaN   \n",
       "4  3900  2013-01-02          4    103665         2.0         NaN   \n",
       "\n",
       "         family  class  perishable  \n",
       "0  BREAD/BAKERY   2712           1  \n",
       "1  BREAD/BAKERY   2712           1  \n",
       "2  BREAD/BAKERY   2712           1  \n",
       "3  BREAD/BAKERY   2712           1  \n",
       "4  BREAD/BAKERY   2712           1  "
      ]
     },
     "execution_count": 80,
     "metadata": {},
     "output_type": "execute_result"
    }
   ],
   "source": [
    "train_2.head()"
   ]
  },
  {
   "cell_type": "code",
   "execution_count": 81,
   "id": "a960e056",
   "metadata": {},
   "outputs": [],
   "source": [
    "item_family_sales = train_2.groupby('family')['unit_sales'].sum()"
   ]
  },
  {
   "cell_type": "code",
   "execution_count": 83,
   "id": "2fb6cb6a",
   "metadata": {},
   "outputs": [
    {
     "data": {
      "text/plain": [
       "family\n",
       "AUTOMOTIVE                    5.548090e+05\n",
       "BABY CARE                     1.005100e+04\n",
       "BEAUTY                        3.378910e+05\n",
       "BEVERAGES                     2.169422e+08\n",
       "BOOKS                         6.435000e+03\n",
       "BREAD/BAKERY                  4.213395e+07\n",
       "CELEBRATION                   7.611330e+05\n",
       "CLEANING                      9.751840e+07\n",
       "DAIRY                         6.448726e+07\n",
       "DELI                          2.411032e+07\n",
       "EGGS                          1.558830e+07\n",
       "FROZEN FOODS                  1.407179e+07\n",
       "GROCERY I                     3.434617e+08\n",
       "GROCERY II                    1.962767e+06\n",
       "HARDWARE                      1.034410e+05\n",
       "HOME AND KITCHEN I            1.861229e+06\n",
       "HOME AND KITCHEN II           1.520557e+06\n",
       "HOME APPLIANCES               4.155900e+04\n",
       "HOME CARE                     1.602214e+07\n",
       "LADIESWEAR                    6.511560e+05\n",
       "LAWN AND GARDEN               5.488380e+05\n",
       "LINGERIE                      6.517100e+05\n",
       "LIQUOR,WINE,BEER              7.744385e+06\n",
       "MAGAZINES                     2.663560e+05\n",
       "MEATS                         3.108647e+07\n",
       "PERSONAL CARE                 2.458094e+07\n",
       "PET SUPPLIES                  3.565840e+05\n",
       "PLAYERS AND ELECTRONICS       5.625790e+05\n",
       "POULTRY                       3.187600e+07\n",
       "PREPARED FOODS                8.799871e+06\n",
       "PRODUCE                       1.227047e+08\n",
       "SCHOOL AND OFFICE SUPPLIES    2.693140e+05\n",
       "SEAFOOD                       2.015396e+06\n",
       "Name: unit_sales, dtype: float64"
      ]
     },
     "execution_count": 83,
     "metadata": {},
     "output_type": "execute_result"
    }
   ],
   "source": [
    "item_family_sales"
   ]
  },
  {
   "cell_type": "code",
   "execution_count": 84,
   "id": "84842fa8",
   "metadata": {},
   "outputs": [
    {
     "data": {
      "text/plain": [
       "<bound method DataFrame.info of                   id        date  store_nbr  item_nbr  unit_sales onpromotion\n",
       "0                  0  2013-01-01         25    103665         7.0         NaN\n",
       "1                  1  2013-01-01         25    105574         1.0         NaN\n",
       "2                  2  2013-01-01         25    105575         2.0         NaN\n",
       "3                  3  2013-01-01         25    108079         1.0         NaN\n",
       "4                  4  2013-01-01         25    108701         1.0         NaN\n",
       "...              ...         ...        ...       ...         ...         ...\n",
       "125497035  125497035  2017-08-15         54   2089339         4.0       False\n",
       "125497036  125497036  2017-08-15         54   2106464         1.0        True\n",
       "125497037  125497037  2017-08-15         54   2110456       192.0       False\n",
       "125497038  125497038  2017-08-15         54   2113914       198.0        True\n",
       "125497039  125497039  2017-08-15         54   2116416         2.0       False\n",
       "\n",
       "[125497040 rows x 6 columns]>"
      ]
     },
     "execution_count": 84,
     "metadata": {},
     "output_type": "execute_result"
    }
   ],
   "source": [
    "train.info"
   ]
  },
  {
   "cell_type": "code",
   "execution_count": 90,
   "id": "957194cf",
   "metadata": {},
   "outputs": [],
   "source": [
    "train_perishable = train_2[train_2['perishable'] == 1]"
   ]
  },
  {
   "cell_type": "code",
   "execution_count": 91,
   "id": "c70d6dda",
   "metadata": {},
   "outputs": [
    {
     "data": {
      "text/html": [
       "<div>\n",
       "<style scoped>\n",
       "    .dataframe tbody tr th:only-of-type {\n",
       "        vertical-align: middle;\n",
       "    }\n",
       "\n",
       "    .dataframe tbody tr th {\n",
       "        vertical-align: top;\n",
       "    }\n",
       "\n",
       "    .dataframe thead th {\n",
       "        text-align: right;\n",
       "    }\n",
       "</style>\n",
       "<table border=\"1\" class=\"dataframe\">\n",
       "  <thead>\n",
       "    <tr style=\"text-align: right;\">\n",
       "      <th></th>\n",
       "      <th>id</th>\n",
       "      <th>date</th>\n",
       "      <th>store_nbr</th>\n",
       "      <th>item_nbr</th>\n",
       "      <th>unit_sales</th>\n",
       "      <th>onpromotion</th>\n",
       "      <th>family</th>\n",
       "      <th>class</th>\n",
       "      <th>perishable</th>\n",
       "    </tr>\n",
       "  </thead>\n",
       "  <tbody>\n",
       "    <tr>\n",
       "      <th>0</th>\n",
       "      <td>0</td>\n",
       "      <td>2013-01-01</td>\n",
       "      <td>25</td>\n",
       "      <td>103665</td>\n",
       "      <td>7.0</td>\n",
       "      <td>NaN</td>\n",
       "      <td>BREAD/BAKERY</td>\n",
       "      <td>2712</td>\n",
       "      <td>1</td>\n",
       "    </tr>\n",
       "    <tr>\n",
       "      <th>1</th>\n",
       "      <td>578</td>\n",
       "      <td>2013-01-02</td>\n",
       "      <td>1</td>\n",
       "      <td>103665</td>\n",
       "      <td>2.0</td>\n",
       "      <td>NaN</td>\n",
       "      <td>BREAD/BAKERY</td>\n",
       "      <td>2712</td>\n",
       "      <td>1</td>\n",
       "    </tr>\n",
       "    <tr>\n",
       "      <th>2</th>\n",
       "      <td>1596</td>\n",
       "      <td>2013-01-02</td>\n",
       "      <td>2</td>\n",
       "      <td>103665</td>\n",
       "      <td>5.0</td>\n",
       "      <td>NaN</td>\n",
       "      <td>BREAD/BAKERY</td>\n",
       "      <td>2712</td>\n",
       "      <td>1</td>\n",
       "    </tr>\n",
       "    <tr>\n",
       "      <th>3</th>\n",
       "      <td>2699</td>\n",
       "      <td>2013-01-02</td>\n",
       "      <td>3</td>\n",
       "      <td>103665</td>\n",
       "      <td>6.0</td>\n",
       "      <td>NaN</td>\n",
       "      <td>BREAD/BAKERY</td>\n",
       "      <td>2712</td>\n",
       "      <td>1</td>\n",
       "    </tr>\n",
       "    <tr>\n",
       "      <th>4</th>\n",
       "      <td>3900</td>\n",
       "      <td>2013-01-02</td>\n",
       "      <td>4</td>\n",
       "      <td>103665</td>\n",
       "      <td>2.0</td>\n",
       "      <td>NaN</td>\n",
       "      <td>BREAD/BAKERY</td>\n",
       "      <td>2712</td>\n",
       "      <td>1</td>\n",
       "    </tr>\n",
       "  </tbody>\n",
       "</table>\n",
       "</div>"
      ],
      "text/plain": [
       "     id        date  store_nbr  item_nbr  unit_sales onpromotion  \\\n",
       "0     0  2013-01-01         25    103665         7.0         NaN   \n",
       "1   578  2013-01-02          1    103665         2.0         NaN   \n",
       "2  1596  2013-01-02          2    103665         5.0         NaN   \n",
       "3  2699  2013-01-02          3    103665         6.0         NaN   \n",
       "4  3900  2013-01-02          4    103665         2.0         NaN   \n",
       "\n",
       "         family  class  perishable  \n",
       "0  BREAD/BAKERY   2712           1  \n",
       "1  BREAD/BAKERY   2712           1  \n",
       "2  BREAD/BAKERY   2712           1  \n",
       "3  BREAD/BAKERY   2712           1  \n",
       "4  BREAD/BAKERY   2712           1  "
      ]
     },
     "execution_count": 91,
     "metadata": {},
     "output_type": "execute_result"
    }
   ],
   "source": [
    "train_perishable.head()"
   ]
  },
  {
   "cell_type": "code",
   "execution_count": 92,
   "id": "3564c724",
   "metadata": {},
   "outputs": [
    {
     "data": {
      "text/plain": [
       "DAIRY             8992824\n",
       "PRODUCE           7154303\n",
       "BREAD/BAKERY      4659246\n",
       "DELI              4116396\n",
       "MEATS             2432048\n",
       "POULTRY           1742403\n",
       "EGGS              1580833\n",
       "PREPARED FOODS     766588\n",
       "SEAFOOD            257895\n",
       "Name: family, dtype: int64"
      ]
     },
     "execution_count": 92,
     "metadata": {},
     "output_type": "execute_result"
    }
   ],
   "source": [
    "train_perishable['family'].value_counts()"
   ]
  },
  {
   "cell_type": "code",
   "execution_count": null,
   "id": "1f6cff3d",
   "metadata": {},
   "outputs": [],
   "source": []
  }
 ],
 "metadata": {
  "kernelspec": {
   "display_name": "Python 3",
   "language": "python",
   "name": "python3"
  },
  "language_info": {
   "codemirror_mode": {
    "name": "ipython",
    "version": 3
   },
   "file_extension": ".py",
   "mimetype": "text/x-python",
   "name": "python",
   "nbconvert_exporter": "python",
   "pygments_lexer": "ipython3",
   "version": "3.8.8"
  }
 },
 "nbformat": 4,
 "nbformat_minor": 5
}
